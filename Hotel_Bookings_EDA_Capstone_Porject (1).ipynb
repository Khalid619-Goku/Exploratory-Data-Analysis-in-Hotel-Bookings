{
  "nbformat": 4,
  "nbformat_minor": 0,
  "metadata": {
    "colab": {
      "private_outputs": true,
      "provenance": [],
      "collapsed_sections": [
        "JcMwzZxoAimU",
        "gIfDvo9L0UH2"
      ]
    },
    "kernelspec": {
      "name": "python3",
      "display_name": "Python 3"
    },
    "language_info": {
      "name": "python"
    }
  },
  "cells": [
    {
      "cell_type": "markdown",
      "source": [
        "# **Project Name**   - Hotel Booking Analysis\n",
        "\n"
      ],
      "metadata": {
        "id": "vncDsAP0Gaoa"
      }
    },
    {
      "cell_type": "markdown",
      "source": [
        "##### **Project Type**    - EDA on Hotel Bookings Dataset\n",
        "##### **Contribution**    - Khalid Karim\n",
        "##### **Team Member 1 -**\n",
        "##### **Team Member 2 -**\n",
        "##### **Team Member 3 -**\n",
        "##### **Team Member 4 -**"
      ],
      "metadata": {
        "id": "beRrZCGUAJYm"
      }
    },
    {
      "cell_type": "markdown",
      "source": [
        "# **Project Summary -**"
      ],
      "metadata": {
        "id": "FJNUwmbgGyua"
      }
    },
    {
      "cell_type": "markdown",
      "source": [
        "Write the summary here within 500-600 words.\n",
        "\n",
        "**Project Title**: Optimizing Hotel Operations through Data-Driven Insights\n",
        "\n",
        "**Objective**:\n",
        "The primary aim of this project is to analyze hotel booking data to identify trends, optimize pricing strategies, enhance customer satisfaction, and improve operational efficiency.\n",
        "\n",
        "**Scope**:\n",
        "This analysis will focus on data collected over the past three years, encompassing guest demographics, booking channels, occupancy rates, revenue metrics, and customer feedback.\n",
        "\n",
        "***Key Components***:\n",
        "\n",
        "**Data Collection**:\n",
        "\n",
        "Importing data from the dataset, including reservation details, guest profiles, room inventory, and historical occupancy data.\n",
        "\n",
        "**Data Cleaning and Preparation**:\n",
        "\n",
        "Ensure data accuracy and completeness by removing duplicates, filling in missing values, and standardizing formats.\n",
        "\n",
        "**Analysis Techniques**:\n",
        "\n",
        "***Descriptive Analysis***: *Summarize historical booking patterns, including occupancy rates and average daily rates.\n",
        "Predictive Analysis: Utilize time series forecasting to predict future occupancy and revenue trends based on historical data.\n",
        "Segmentation Analysis: Identify distinct customer segments based on booking behavior and preferences.*\n",
        "Key Metrics to Evaluate:\n",
        "\n",
        "***Occupancy Rate***: *Calculate and analyze trends over time.\n",
        "Revenue per Available Room : Assess financial performance.\n",
        "Cancellation Rates: Examine patterns to mitigate future cancellations.\n",
        "Length of Stay: Analyze typical stays to develop targeted marketing strategies.*\n",
        "\n",
        "***Visualization:***\n",
        "\n",
        "*Create dashboards using data visualization tools (e.g., Matplotlib, Seaborn) to present insights in an accessible format for stakeholders.*\n",
        "\n",
        "***Recommendations:***\n",
        "\n",
        "*Based on analysis, provide actionable recommendations to enhance pricing strategies, improve customer loyalty programs, and optimize marketing efforts.*\n",
        "\n",
        "***Expected Outcomes:***\n",
        "\n",
        "*Improved understanding of booking trends and customer behavior.\n",
        "Enhanced pricing strategies leading to increased revenue.\n",
        "Targeted marketing campaigns that resonate with identified customer segments.\n",
        "Increased customer satisfaction through tailored services and improved operational practices.*"
      ],
      "metadata": {
        "id": "F6v_1wHtG2nS"
      }
    },
    {
      "cell_type": "markdown",
      "source": [
        "# **GitHub Link -**"
      ],
      "metadata": {
        "id": "w6K7xa23Elo4"
      }
    },
    {
      "cell_type": "markdown",
      "source": [
        "Link - https://github.com/Khalid619-Goku/Exploratory-Data-Analysis-in-Hotel-Bookings/blob/main/README.md"
      ],
      "metadata": {
        "id": "h1o69JH3Eqqn"
      }
    },
    {
      "cell_type": "markdown",
      "source": [
        "# **Problem Statement**\n"
      ],
      "metadata": {
        "id": "yQaldy8SH6Dl"
      }
    },
    {
      "cell_type": "markdown",
      "source": [
        "**Write Problem Statement Here.**"
      ],
      "metadata": {
        "id": "DpeJGUA3kjGy"
      }
    },
    {
      "cell_type": "markdown",
      "source": [
        "#### **Define Your Business Objective?**"
      ],
      "metadata": {
        "id": "PH-0ReGfmX4f"
      }
    },
    {
      "cell_type": "markdown",
      "source": [
        "Answer Here."
      ],
      "metadata": {
        "id": "PhDvGCAqmjP1"
      }
    },
    {
      "cell_type": "markdown",
      "source": [
        "# **General Guidelines** : -  "
      ],
      "metadata": {
        "id": "mDgbUHAGgjLW"
      }
    },
    {
      "cell_type": "markdown",
      "source": [
        "1.   Well-structured, formatted, and commented code is required.\n",
        "2.   Exception Handling, Production Grade Code & Deployment Ready Code will be a plus. Those students will be awarded some additional credits.\n",
        "     \n",
        "     The additional credits will have advantages over other students during Star Student selection.\n",
        "       \n",
        "             [ Note: - Deployment Ready Code is defined as, the whole .ipynb notebook should be executable in one go\n",
        "                       without a single error logged. ]\n",
        "\n",
        "3.   Each and every logic should have proper comments.\n",
        "4. You may add as many number of charts you want. Make Sure for each and every chart the following format should be answered.\n",
        "        \n",
        "\n",
        "```\n",
        "# Chart visualization code\n",
        "```\n",
        "            \n",
        "\n",
        "*   Why did you pick the specific chart?\n",
        "*   What is/are the insight(s) found from the chart?\n",
        "* Will the gained insights help creating a positive business impact?\n",
        "Are there any insights that lead to negative growth? Justify with specific reason.\n",
        "\n",
        "5. You have to create at least 20 logical & meaningful charts having important insights.\n",
        "\n",
        "\n",
        "[ Hints : - Do the Vizualization in  a structured way while following \"UBM\" Rule.\n",
        "\n",
        "U - Univariate Analysis,\n",
        "\n",
        "B - Bivariate Analysis (Numerical - Categorical, Numerical - Numerical, Categorical - Categorical)\n",
        "\n",
        "M - Multivariate Analysis\n",
        " ]\n",
        "\n",
        "\n",
        "\n"
      ],
      "metadata": {
        "id": "ZrxVaUj-hHfC"
      }
    },
    {
      "cell_type": "markdown",
      "source": [
        "# ***Let's Begin !***"
      ],
      "metadata": {
        "id": "O_i_v8NEhb9l"
      }
    },
    {
      "cell_type": "markdown",
      "source": [
        "## ***1. Know Your Data***"
      ],
      "metadata": {
        "id": "HhfV-JJviCcP"
      }
    },
    {
      "cell_type": "markdown",
      "source": [
        "### Import Libraries"
      ],
      "metadata": {
        "id": "Y3lxredqlCYt"
      }
    },
    {
      "cell_type": "code",
      "source": [
        "# Import Libraries\n",
        "import pandas as pd\n",
        "import numpy as np\n",
        "import matplotlib.pyplot as plt\n",
        "import ast\n",
        "import seaborn as sns\n",
        "import os"
      ],
      "metadata": {
        "id": "M8Vqi-pPk-HR"
      },
      "execution_count": null,
      "outputs": []
    },
    {
      "cell_type": "markdown",
      "source": [
        "### Dataset Loading"
      ],
      "metadata": {
        "id": "3RnN4peoiCZX"
      }
    },
    {
      "cell_type": "code",
      "source": [
        "# Load Dataset\n",
        "from google.colab import drive\n",
        "drive.mount('/content/drive')"
      ],
      "metadata": {
        "id": "4CkvbW_SlZ_R"
      },
      "execution_count": null,
      "outputs": []
    },
    {
      "cell_type": "code",
      "source": [
        "# Load Dataset\n",
        "database = r'/content/drive/My Drive/Hotel Bookings.csv'\n",
        "df = pd.read_csv(database)"
      ],
      "metadata": {
        "id": "t58zF8a77tAY"
      },
      "execution_count": null,
      "outputs": []
    },
    {
      "cell_type": "markdown",
      "source": [
        "### Dataset First View"
      ],
      "metadata": {
        "id": "x71ZqKXriCWQ"
      }
    },
    {
      "cell_type": "code",
      "source": [
        "# Dataset First Look\n",
        "df"
      ],
      "metadata": {
        "id": "pYkSz-n7-cI0"
      },
      "execution_count": null,
      "outputs": []
    },
    {
      "cell_type": "code",
      "source": [
        "# First 5 rows of the dataframe\n",
        "df.head()"
      ],
      "metadata": {
        "id": "DOj8sRg7-gwj"
      },
      "execution_count": null,
      "outputs": []
    },
    {
      "cell_type": "code",
      "source": [
        "# Lastv 5 rows of the DataFrame\n",
        "df.tail()"
      ],
      "metadata": {
        "id": "S7V0Wrw5-9aN"
      },
      "execution_count": null,
      "outputs": []
    },
    {
      "cell_type": "markdown",
      "source": [
        "### Dataset Rows & Columns count"
      ],
      "metadata": {
        "id": "7hBIi_osiCS2"
      }
    },
    {
      "cell_type": "code",
      "source": [
        "# Dataset Rows & Columns count\n",
        "df_rows , df_columns = df.shape\n",
        "print(f'No of rows are {df_rows}')\n",
        "print(f'No of columns are {df_columns}')"
      ],
      "metadata": {
        "id": "Kllu7SJgmLij"
      },
      "execution_count": null,
      "outputs": []
    },
    {
      "cell_type": "markdown",
      "source": [
        "### Dataset Information"
      ],
      "metadata": {
        "id": "JlHwYmJAmNHm"
      }
    },
    {
      "cell_type": "code",
      "source": [
        "# Dataset Info\n",
        "df.info()"
      ],
      "metadata": {
        "id": "e9hRXRi6meOf"
      },
      "execution_count": null,
      "outputs": []
    },
    {
      "cell_type": "markdown",
      "source": [
        "#### Duplicate Values"
      ],
      "metadata": {
        "id": "35m5QtbWiB9F"
      }
    },
    {
      "cell_type": "code",
      "source": [
        "# Dataset Duplicate Value Count\n",
        "duplicate_count= df.duplicated().sum()\n",
        "print(f'The Dataset Duplicate Value count is {duplicate_count} rows')"
      ],
      "metadata": {
        "id": "1sLdpKYkmox0"
      },
      "execution_count": null,
      "outputs": []
    },
    {
      "cell_type": "markdown",
      "source": [
        "#### Missing Values/Null Values"
      ],
      "metadata": {
        "id": "PoPl-ycgm1ru"
      }
    },
    {
      "cell_type": "code",
      "source": [
        "# Missing Values/Null Values Count\n",
        "null_count = df.isnull().sum()\n",
        "print(f'null value count per column is {null_count}\\n')\n",
        "print('The total Missing/Null value count is ', null_count.sum())"
      ],
      "metadata": {
        "id": "GgHWkxvamxVg"
      },
      "execution_count": null,
      "outputs": []
    },
    {
      "cell_type": "code",
      "source": [
        "# Visualizing the missing values\n",
        "plt.figure(figsize=(12, 6))\n",
        "sns.barplot(x=null_count.index, y=null_count.values)\n",
        "plt.title('Missing Values per Column')\n",
        "plt.xlabel('Columns')\n",
        "plt.ylabel('Number of Missing Values')\n",
        "plt.xticks(rotation=90)\n",
        "plt.show()"
      ],
      "metadata": {
        "id": "3q5wnI3om9sJ"
      },
      "execution_count": null,
      "outputs": []
    },
    {
      "cell_type": "markdown",
      "source": [
        "### What did you know about your dataset?"
      ],
      "metadata": {
        "id": "H0kj-8xxnORC"
      }
    },
    {
      "cell_type": "markdown",
      "source": [
        "This Datast has a total of 129425 Missing/Null Values under which the columns Country, Agent and Company has 488 , 16340, 112593 Missing/Null Vaalues respectively.\n",
        "Again most fo the data types are int64 , less are object and the least are float64."
      ],
      "metadata": {
        "id": "gfoNAAC-nUe_"
      }
    },
    {
      "cell_type": "markdown",
      "source": [
        "## ***2. Understanding Your Variables***"
      ],
      "metadata": {
        "id": "nA9Y7ga8ng1Z"
      }
    },
    {
      "cell_type": "code",
      "source": [
        "# Dataset Columns\n",
        "df.columns"
      ],
      "metadata": {
        "id": "j7xfkqrt5Ag5"
      },
      "execution_count": null,
      "outputs": []
    },
    {
      "cell_type": "code",
      "source": [
        "# Dataset Describe\n",
        "df.describe()"
      ],
      "metadata": {
        "id": "DnOaZdaE5Q5t"
      },
      "execution_count": null,
      "outputs": []
    },
    {
      "cell_type": "markdown",
      "source": [
        "### Variables Description"
      ],
      "metadata": {
        "id": "PBTbrJXOngz2"
      }
    },
    {
      "cell_type": "markdown",
      "source": [
        "After observing the description of the data we got to know that the total entries were made are 119390.00. Lead time was on average of 104 days and average daily rate is 101. Average no of cancellations were 37%. People check-in the least on 1st day of a month but the rate is maximised on the last day of a month(specially the months from Nov-Jan) with weekends stays upto 19%.\n",
        "55% are adults and 10% are children or babies.\n",
        "Repeate guests are 1% and maximum cancellation rate is 26%."
      ],
      "metadata": {
        "id": "aJV4KIxSnxay"
      }
    },
    {
      "cell_type": "markdown",
      "source": [
        "### Check Unique Values for each variable."
      ],
      "metadata": {
        "id": "u3PMJOP6ngxN"
      }
    },
    {
      "cell_type": "code",
      "source": [
        "# Check Unique Values for each variable.\n",
        "unique_values = {col:df[col].unique() for col in df.columns}\n",
        "unique_values\n",
        "for col,values in unique_values.items():\n",
        "  print(f'Unique values for {col} are {len(values)}')\n",
        "  # print(f'Unique values for {col} are {values}')          This is to get the values"
      ],
      "metadata": {
        "id": "zms12Yq5n-jE"
      },
      "execution_count": null,
      "outputs": []
    },
    {
      "cell_type": "markdown",
      "source": [
        "## 3. ***Data Wrangling***"
      ],
      "metadata": {
        "id": "dauF4eBmngu3"
      }
    },
    {
      "cell_type": "markdown",
      "source": [
        "### Data Wrangling Code"
      ],
      "metadata": {
        "id": "bKJF3rekwFvQ"
      }
    },
    {
      "cell_type": "code",
      "source": [
        "# Write your code to make your dataset analysis ready.\n",
        "df.dropna(subset=['country','agent','company'],inplace=True)\n",
        "df"
      ],
      "metadata": {
        "id": "wk-9a2fpoLcV"
      },
      "execution_count": null,
      "outputs": []
    },
    {
      "cell_type": "code",
      "source": [
        "df.isnull().sum()"
      ],
      "metadata": {
        "id": "kFJ3H__ZI17s"
      },
      "execution_count": null,
      "outputs": []
    },
    {
      "cell_type": "markdown",
      "source": [
        "### What all manipulations have you done and insights you found?"
      ],
      "metadata": {
        "id": "MSa1f5Uengrz"
      }
    },
    {
      "cell_type": "markdown",
      "source": [
        "As I stated earlier I encountered null values in cloumn Country, Agent and Company. So, I dropped all the Null/Missing Values from the dataset as it could lead to a bias."
      ],
      "metadata": {
        "id": "LbyXE7I1olp8"
      }
    },
    {
      "cell_type": "markdown",
      "source": [
        "## ***4. Data Vizualization, Storytelling & Experimenting with charts : Understand the relationships between variables***"
      ],
      "metadata": {
        "id": "GF8Ens_Soomf"
      }
    },
    {
      "cell_type": "markdown",
      "source": [
        "#### Chart - 1"
      ],
      "metadata": {
        "id": "0wOQAZs5pc--"
      }
    },
    {
      "cell_type": "code",
      "source": [
        "plt.figure(figsize=(10, 6))\n",
        "sns.countplot(data=df, x='hotel')\n",
        "plt.title('Number of Bookings by Hotel Type')\n",
        "plt.xlabel('Hotel Type')\n",
        "plt.ylabel('Number of Bookings')\n",
        "plt.show()\n"
      ],
      "metadata": {
        "id": "7v_ESjsspbW7"
      },
      "execution_count": null,
      "outputs": []
    },
    {
      "cell_type": "markdown",
      "source": [
        "##### 1. Why did you pick the specific chart?"
      ],
      "metadata": {
        "id": "K5QZ13OEpz2H"
      }
    },
    {
      "cell_type": "markdown",
      "source": [
        "I wanted to see which types of hotels are more engaging. For that I preffered a bar plot as I could clearly see the trend."
      ],
      "metadata": {
        "id": "XESiWehPqBRc"
      }
    },
    {
      "cell_type": "markdown",
      "source": [
        "##### 2. What is/are the insight(s) found from the chart?"
      ],
      "metadata": {
        "id": "lQ7QKXXCp7Bj"
      }
    },
    {
      "cell_type": "markdown",
      "source": [
        "The insights where that Resort Hotels tend to generate more traffic than City oHtels. But it is unclear whether they can do it throughout the year or not. I have checked the hypothesis in the next cell.\n",
        "These values are from 2015-2017"
      ],
      "metadata": {
        "id": "C_j1G7yiqdRP"
      }
    },
    {
      "cell_type": "markdown",
      "source": [
        "##### 3. Will the gained insights help creating a positive business impact?\n",
        "Are there any insights that lead to negative growth? Justify with specific reason.\n",
        "\n",
        "**Answer**- It is undeniable that Resort Hotels welcome way more guests than City Hotels. Even if they cant sustain it throughout the year still it suggests that City Hotels are relatively behind them.\n",
        "So, it will be safe to say that Resort Hotels are currently booming in hospitality service sectors."
      ],
      "metadata": {
        "id": "448CDAPjqfQr"
      }
    },
    {
      "cell_type": "markdown",
      "source": [
        "Answer Here"
      ],
      "metadata": {
        "id": "3cspy4FjqxJW"
      }
    },
    {
      "cell_type": "markdown",
      "source": [
        "#### Chart - 2"
      ],
      "metadata": {
        "id": "KSlN3yHqYklG"
      }
    },
    {
      "cell_type": "code",
      "source": [
        "# Chart - 2 visualization code for checking how much booking does a Resort Hotel gets\n",
        "# Converting the values of the column to datetime\n",
        "df['reservation_status_date'] = pd.to_datetime(df['reservation_status_date'])\n",
        "# Mapping month and year from the column\n",
        "df['month']=df['reservation_status_date'].dt.month\n",
        "df['year']=df['reservation_status_date'].dt.year\n",
        "\n",
        "resort_hotel=df[df['hotel']=='Resort Hotel']\n",
        "city_hotel=df[df['hotel']=='City Hotel']\n",
        "\n",
        "plt.figure(figsize=(12,8))\n",
        "sns.histplot(data=resort_hotel,x='month',bins=12,kde=False,color='blue')\n",
        "plt.title('Number of bookings for Resorts each month',bbox={'facecolor':'0.8','pad':3})\n",
        "plt.xlabel('Month')\n",
        "plt.ylabel('Number of Bookings')\n",
        "plt.xticks(ticks=range(1,13),labels=['Jan','Feb','Mars','Apr','May','June','July','Aug','Sep','Oct','Nov','Dec'])\n",
        "plt.show()\n",
        "# df.columns\n",
        "\n",
        "# Same Chart for the City hotels\n",
        "plt.figure(figsize=(12,8))\n",
        "sns.histplot(data=city_hotel,x='month',bins=12,kde=False,color='green')\n",
        "plt.title('Number of bookings for City Hotels each month',bbox={'facecolor':'0.8','pad':3})\n",
        "plt.xlabel('Month')\n",
        "plt.ylabel('Number of Bookings')\n",
        "plt.xticks(ticks=range(1,13),labels=['Jan','Feb','Mars','Apr','May','June','July','Aug','Sep','Oct','Nov','Dec'])\n",
        "plt.show()"
      ],
      "metadata": {
        "id": "R4YgtaqtYklH"
      },
      "execution_count": null,
      "outputs": []
    },
    {
      "cell_type": "code",
      "source": [
        "plt.figure(figsize=(12,8))\n",
        "sns.countplot(data=resort_hotel,x='year',hue='hotel')\n",
        "plt.title('Number of bookings for Resorts each year',bbox={'facecolor':'0.8','pad':3})\n",
        "plt.xlabel('Year')\n",
        "plt.ylabel('Number of Bookings')\n",
        "# plt.xticks(ticks=range(1,13),labels=['Jan','Feb','Mars','Apr','May','June','July','Aug','Sep','Oct','Nov','Dec'])\n",
        "plt.show()\n",
        "# df.columns\n",
        "\n",
        "# Same Chart for the City hotels\n",
        "plt.figure(figsize=(12,8))\n",
        "sns.countplot(data=city_hotel,x='year',hue='hotel')\n",
        "plt.title('Number of bookings for City Hotels each year',bbox={'facecolor':'0.8','pad':3})\n",
        "plt.xlabel('Year')\n",
        "plt.ylabel('Number of Bookings')\n",
        "# plt.xticks(ticks=range(1,13),labels=['Jan','Feb','Mars','Apr','May','June','July','Aug','Sep','Oct','Nov','Dec'])\n",
        "plt.show()"
      ],
      "metadata": {
        "id": "v6Rt-qEf5Bxu"
      },
      "execution_count": null,
      "outputs": []
    },
    {
      "cell_type": "markdown",
      "source": [
        "##### 1. Why did you pick the specific chart?"
      ],
      "metadata": {
        "id": "t6dVpIINYklI"
      }
    },
    {
      "cell_type": "markdown",
      "source": [
        "Answer Here.\n",
        "\n",
        "As I stated that the previous  barplot gave an insight on which types of hotels get more bookings. It showed that from 2015-2017 a significant amount of people likes Resort Hotels more than City Hotels. This raised a question that whether people are drawn to Resorts more than City Hotels throughout the year or not. To test this hypothesis I chose to create a Histogram for Resort Hotels and City Hotels to get the frequency of bookings through out the year."
      ],
      "metadata": {
        "id": "5aaW0BYyYklI"
      }
    },
    {
      "cell_type": "markdown",
      "source": [
        "##### 2. What is/are the insight(s) found from the chart?"
      ],
      "metadata": {
        "id": "ijmpgYnKYklI"
      }
    },
    {
      "cell_type": "markdown",
      "source": [
        "Answer Here\n",
        "\n",
        "The two charts show that City Hotels perform well throughout the year where the resorts get bookings only on November but its way more than City Hotels which they get the whole year.\n",
        "**Jan**- City hotels get 60% // Resort Hotels get almost 4%\n",
        "\n",
        "**Feb**- City hotels get 10% // Resort Hotels get almost 4%\n",
        "\n",
        "**Mar**- City hotels get 10% // Resort Hotels get almost 4%\n",
        "\n",
        "**Apr**- City hotels get 0% // Resort Hotels get almost 1%\n",
        "\n",
        "**May**- City hotels get 50% // Resort Hotels get almost 10%\n",
        "\n",
        "**June**- City hotels get 50% // Resort Hotels get almost 2%\n",
        "\n",
        "**July**- City hotels get 20% // Resort Hotels get almost 4%\n",
        "\n",
        "**Aug**- City hotels get almost 100% // Resort Hotels get almost 3%\n",
        "\n",
        "**Sept**- City hotels get 50% // Resort Hotels get almost 3%\n",
        "\n",
        "**Oct**- City hotels get almost 100% // Resort Hotels get almost 4%\n",
        "\n",
        "**Nov**- City hotels get 10% // ***Resort Hotels get almost 120%***\n",
        "\n",
        "**Dec**- City hotels get 10% // Resort Hotels get almost 4%"
      ],
      "metadata": {
        "id": "PSx9atu2YklI"
      }
    },
    {
      "cell_type": "markdown",
      "source": [
        "##### 3. Will the gained insights help creating a positive business impact?\n",
        "Are there any insights that lead to negative growth? Justify with specific reason."
      ],
      "metadata": {
        "id": "-JiQyfWJYklI"
      }
    },
    {
      "cell_type": "markdown",
      "source": [
        "Answer Here"
      ],
      "metadata": {
        "id": "BcBbebzrYklV"
      }
    },
    {
      "cell_type": "markdown",
      "source": [
        "#### Chart - 3"
      ],
      "metadata": {
        "id": "EM7whBJCYoAo"
      }
    },
    {
      "cell_type": "code",
      "source": [
        "# Chart - 3 visualization code\n",
        "plt.figure(figsize=(10,6))\n",
        "sns.histplot(data=resort_hotel,x='month',bins=12,kde=False,hue='is_canceled',palette='Paired_r')\n",
        "plt.title('Number of bookings cancelled for Resort hotel each month', bbox={'facecolor': '0.8', 'pad' :3})\n",
        "plt.xlabel('Month')\n",
        "plt.ylabel('Number of Bookings')\n",
        "plt.xticks(ticks=range(1,13),labels=['Jan','Feb','Mars','Apr','May','June','July','Aug','Sep','Oct','Nov','Dec'])\n",
        "plt.show()\n",
        "# df.columns\n",
        "\n",
        "# Same Chart for the City hotels\n",
        "plt.figure(figsize=(10,6))\n",
        "sns.histplot(data=city_hotel,x='month',bins=12,kde=False,hue='is_canceled',palette='CMRmap')\n",
        "plt.title('Number of bookings cancelled for City hotel each month', bbox={'facecolor': '0.8', 'pad' :3})\n",
        "plt.xlabel('Month')\n",
        "plt.ylabel('Number of Bookings')\n",
        "plt.xticks(ticks=range(1,13),labels=['Jan','Feb','Mars','Apr','May','June','July','Aug','Sep','Oct','Nov','Dec'])\n",
        "plt.show()"
      ],
      "metadata": {
        "id": "t6GMdE67YoAp"
      },
      "execution_count": null,
      "outputs": []
    },
    {
      "cell_type": "markdown",
      "source": [
        "##### 1. Why did you pick the specific chart?"
      ],
      "metadata": {
        "id": "fge-S5ZAYoAp"
      }
    },
    {
      "cell_type": "markdown",
      "source": [
        "A countplot with a hue of cancellation status showed the contrast of bookings and cancellations with differenet hotel types."
      ],
      "metadata": {
        "id": "5dBItgRVYoAp"
      }
    },
    {
      "cell_type": "markdown",
      "source": [
        "##### 2. What is/are the insight(s) found from the chart?\n",
        "I wanted to see the contrast between bookings and cancellations for both of the hotel Types.\n",
        "It shows that For Resort Hotels the cancellation is highest on the month of November i.e 5%\n",
        "On April the cancellation is around 2% but actually April has no records of booking. So the cancellation bar suggests that in April all the customerd cancelled their bookings.\n",
        "And for city hotels the canellations are not that significant."
      ],
      "metadata": {
        "id": "85gYPyotYoAp"
      }
    },
    {
      "cell_type": "markdown",
      "source": [],
      "metadata": {
        "id": "4jstXR6OYoAp"
      }
    },
    {
      "cell_type": "markdown",
      "source": [
        "##### 3. Will the gained insights help creating a positive business impact?\n",
        "Are there any insights that lead to negative growth? Justify with specific reason."
      ],
      "metadata": {
        "id": "RoGjAbkUYoAp"
      }
    },
    {
      "cell_type": "markdown",
      "source": [
        "\n",
        "**Certainly** the above charts show that people tend to prefer the RESORT Hotels in Holiday Season i.e from late Oct to late January. Hence the cancellation rates are also high in these months specially in between Nov-Dec as shown in the figure.\n",
        "\n",
        "As for CITY hotels their buisness remain constant through out the year.Although a hike can be seen in late Jan , August and October. This suggests that people who are travelling prefers city hotel and hence the travelling seasons are the above mentioned Months. Again maximum people stays in city  hotels during their work related trips.\n",
        "\n",
        "Overall the insight is that Resorts do more buisness during the Holiday Season Globally and get immense profit.\n",
        "While City Hotels do buisness for the most of the Yea except for the peAK HOLIDAY SEASON i.e Nov-Dec therefore the profit is still lagging behind Resorts.\n",
        "\n",
        "**SUGGESTION** Some Resorts can partner up with City Hotels and help each other to upgrade."
      ],
      "metadata": {
        "id": "zfJ8IqMcYoAp"
      }
    },
    {
      "cell_type": "markdown",
      "source": [
        "#### Chart - 4"
      ],
      "metadata": {
        "id": "4Of9eVA-YrdM"
      }
    },
    {
      "cell_type": "code",
      "source": [
        "def threshold(dsitribution,threshold=3):\n",
        "  filtered = dsitribution[dsitribution >= threshold]\n",
        "  other = dsitribution[dsitribution < threshold].sum()\n",
        "  if other > 0:\n",
        "    filtered['Other'] = other\n",
        "  return filtered\n",
        "resort_distribution = resort_hotel['country'].value_counts()\n",
        "city_distribution = city_hotel['country'].value_counts()\n",
        "resort_distribution = threshold(resort_distribution)\n",
        "city_distribution = threshold(city_distribution)\n",
        "\n",
        "\n",
        "def pei_chart(dsitribution, title):\n",
        "  plt.figure(figsize=(10, 12))\n",
        "  plt.title(title)\n",
        "  plt.pie(dsitribution, labels=dsitribution.index, autopct='%1.1f%%', startangle=90)\n",
        "  plt.axis('equal')\n",
        "  plt.legend(loc='upper left', bbox_to_anchor=(1, 0, 0.5, 1))\n",
        "  plt.show()\n",
        "\n",
        "pei_chart(resort_distribution, 'Resort Hotel')\n",
        "pei_chart(city_distribution, 'City Hotel')\n",
        "df['country'].value_counts()\n",
        "\n",
        "\n",
        "grouped_data = df.groupby('country')[['adults', 'babies', 'children']].sum().reset_index()\n",
        "\n",
        "# Display the grouped data\n",
        "print(grouped_data)"
      ],
      "metadata": {
        "id": "irlUoxc8YrdO"
      },
      "execution_count": null,
      "outputs": []
    },
    {
      "cell_type": "markdown",
      "source": [
        "##### 1. Why did you pick the specific chart?"
      ],
      "metadata": {
        "id": "iky9q4vBYrdO"
      }
    },
    {
      "cell_type": "markdown",
      "source": [
        "Answer Here.\n",
        "Pie chart is vey useful to get insights of the frequency of different variables in a visually appelling fromat."
      ],
      "metadata": {
        "id": "aJRCwT6DYrdO"
      }
    },
    {
      "cell_type": "markdown",
      "source": [
        "##### 2. What is/are the insight(s) found from the chart?"
      ],
      "metadata": {
        "id": "F6T5p64dYrdO"
      }
    },
    {
      "cell_type": "markdown",
      "source": [
        "Answer Here\n",
        "\n",
        "Plotted the country frequency data in a pie chart to see which nationality has chosen what type of Hotels.\n",
        "\n",
        "**Resort Hotel**\n",
        "\n",
        "Top 3 countries are -  38.25% Portuguese , 17.6% Australia, 11.8% France\n",
        "\n",
        "**City Hotel**\n",
        "\n",
        "top 3 countries are - 36.2% Portuguese, 21.3% Germany, 10.6% france.\n",
        "\n",
        "\n",
        "\n",
        "**None of the contries had babies/children checked-in except for Portuegese and its safe to say that majority of the family checked-in at Resort Hotel.**\n",
        "\n",
        "\n",
        "\n"
      ],
      "metadata": {
        "id": "Xx8WAJvtYrdO"
      }
    },
    {
      "cell_type": "markdown",
      "source": [
        "##### 3. Will the gained insights help creating a positive business impact?\n",
        "Are there any insights that lead to negative growth? Justify with specific reason."
      ],
      "metadata": {
        "id": "y-Ehk30pYrdP"
      }
    },
    {
      "cell_type": "markdown",
      "source": [
        "Answer Here\n",
        "\n",
        "Portuguese and France people tend to spend more on Holiday travels. They target luxurious resorts to spend quality time with their family. Therefore to get more engagement resort hotel as well as city hotel should emphasise more on creating a relaxing family environment providing different activities, good services, swimming pools, games , etc."
      ],
      "metadata": {
        "id": "jLNxxz7MYrdP"
      }
    },
    {
      "cell_type": "markdown",
      "source": [
        "#### Chart - 5"
      ],
      "metadata": {
        "id": "bamQiAODYuh1"
      }
    },
    {
      "cell_type": "code",
      "source": [
        "#lets create a function which will give us bar chart of data respective with a columns\n",
        "\n",
        "def get_count_from_column_bar(df, column_label):\n",
        "  df_grpd = df[column_label].value_counts()\n",
        "  df_grpd = pd.DataFrame({'index':df_grpd.index, 'count':df_grpd.values})\n",
        "  return df_grpd\n",
        "\n",
        "\n",
        "\n",
        "def plot_bar_chart_from_column(df, column_label, t1):\n",
        "  df_grpd = get_count_from_column_bar(df, column_label)\n",
        "  fig, ax = plt.subplots(figsize=(14, 6))\n",
        "  c= ['g', 'r','b', 'c', 'y']\n",
        "  ax.bar(df_grpd['index'], df_grpd[ 'count'], width = 0.4, align = 'edge', edgecolor = 'black', linewidth = 4, color = c, linestyle = \":\", alpha = 0.5)\n",
        "  plt.title(t1, bbox={'facecolor': '0.8', 'pad' :3})\n",
        "  plt.legend()\n",
        "  plt.ylabel('Count')\n",
        "  plt.xticks (rotation = 15) # use to format the lable of x-axis\n",
        "#plt.xlabel(column_label) f\n",
        "plt.show()\n",
        "\n",
        "plot_bar_chart_from_column(df, 'distribution_channel', 'Distibution Channel Volume')"
      ],
      "metadata": {
        "id": "25En9wsAlTDQ"
      },
      "execution_count": null,
      "outputs": []
    },
    {
      "cell_type": "markdown",
      "source": [
        "##### 1. Why did you pick the specific chart?"
      ],
      "metadata": {
        "id": "QHF8YVU7Yuh3"
      }
    },
    {
      "cell_type": "markdown",
      "source": [
        "Answer Here.\n",
        "A  bar chart to visualise the hotel distribution channel."
      ],
      "metadata": {
        "id": "dcxuIMRPYuh3"
      }
    },
    {
      "cell_type": "markdown",
      "source": [
        "##### 2. What is/are the insight(s) found from the chart?"
      ],
      "metadata": {
        "id": "GwzvFGzlYuh3"
      }
    },
    {
      "cell_type": "markdown",
      "source": [
        "Answer Here\n",
        "\n",
        "Hotels get highest customers (120%) from the corporate channel. Both online and offline TA/TO also provides a good amount (60%) of customers to the hotels."
      ],
      "metadata": {
        "id": "uyqkiB8YYuh3"
      }
    },
    {
      "cell_type": "markdown",
      "source": [
        "##### 3. Will the gained insights help creating a positive business impact?\n",
        "Are there any insights that lead to negative growth? Justify with specific reason."
      ],
      "metadata": {
        "id": "qYpmQ266Yuh3"
      }
    },
    {
      "cell_type": "markdown",
      "source": [
        "Answer Here\n",
        "\n",
        "In the digital age to get more engagement online marketing is a key aspect and a strong networking/referral chain."
      ],
      "metadata": {
        "id": "_WtzZ_hCYuh4"
      }
    },
    {
      "cell_type": "markdown",
      "source": [
        "#### Chart - 6"
      ],
      "metadata": {
        "id": "OH-pJp9IphqM"
      }
    },
    {
      "cell_type": "code",
      "source": [
        "average_adr =df.groupby( 'hotel')['adr'].mean()\n",
        "average_adr\n",
        "plt.subplots(figsize=(8, 5))\n",
        "average_adr.plot(kind = 'barh', color = ('b', 'g'))\n",
        "plt.xlabel(\"Average ADR\", fontdict={'fontsize': 12, 'fontweight' : 5, 'color' :'Brown'})\n",
        "plt.ylabel(\"Hotel Name\", fontdict={'fontsize': 12, 'fontweight' : 5, 'color': 'Brown'} )\n",
        "plt.title(\"Average ADR of Each Hotel types\", fontdict={'fontsize': 12, 'fontweight' : 5, 'color': 'Black'},bbox={'facecolor':'0.8','pad':3})\n"
      ],
      "metadata": {
        "id": "kuRf4wtuphqN"
      },
      "execution_count": null,
      "outputs": []
    },
    {
      "cell_type": "markdown",
      "source": [
        "##### 1. Why did you pick the specific chart?"
      ],
      "metadata": {
        "id": "bbFf2-_FphqN"
      }
    },
    {
      "cell_type": "markdown",
      "source": [
        "Answer Here.\n",
        "A horizontal barplot for the average ADR of hotel types gives a clear visualisation of the contrast."
      ],
      "metadata": {
        "id": "loh7H2nzphqN"
      }
    },
    {
      "cell_type": "markdown",
      "source": [
        "##### 2. What is/are the insight(s) found from the chart?"
      ],
      "metadata": {
        "id": "_ouA3fa0phqN"
      }
    },
    {
      "cell_type": "markdown",
      "source": [
        "Answer Here\n",
        "City hotels have 120% more ADR throughout the year where as Resort Hotels have 55% ADR."
      ],
      "metadata": {
        "id": "VECbqPI7phqN"
      }
    },
    {
      "cell_type": "markdown",
      "source": [
        "##### 3. Will the gained insights help creating a positive business impact?\n",
        "Are there any insights that lead to negative growth? Justify with specific reason."
      ],
      "metadata": {
        "id": "Seke61FWphqN"
      }
    },
    {
      "cell_type": "markdown",
      "source": [
        "Answer Here\n",
        "\n",
        "It support the hypotheiss that people mostly single people tend to choose City hotels through out the year for work, travel, stay etc purposes because its cheaper and in the hearts of cities.\n",
        "\n",
        "But when it comes to vacation and holidays the Resort hotels get more preference over the city hotels as people like calm relaxing environment away from the city to spend quality time with their families."
      ],
      "metadata": {
        "id": "DW4_bGpfphqN"
      }
    },
    {
      "cell_type": "markdown",
      "source": [
        "#### Chart - 7"
      ],
      "metadata": {
        "id": "PIIx-8_IphqN"
      }
    },
    {
      "cell_type": "code",
      "source": [
        "# # # Chart - 7 visualization code\n",
        "plt.figure(figsize = (8,5))\n",
        "hotel_wise_revenue = df.groupby( 'hotel') [ 'revenue'].sum()\n",
        "ax = hotel_wise_revenue.plot(kind = 'bar', color = ('gold', 'blue'))\n",
        "plt.xlabel(\"Hotel\", fontdict={'fontsize': 12, 'fontweight' : 5, 'color': 'Brown'})\n",
        "plt.ylabel(\"Total Revenue\", fontdict={'fontsize': 12, 'fontweight' : 5, 'color': 'Brown'})\n",
        "plt.title(\"Total Revenue\", fontdict={'fontsize': 12, 'fontweight' : 5, 'color': 'Green' } ,bbox={'facecolor':'0.8','pad':3})"
      ],
      "metadata": {
        "id": "lqAIGUfyphqO"
      },
      "execution_count": null,
      "outputs": []
    },
    {
      "cell_type": "markdown",
      "source": [
        "##### 1. Why did you pick the specific chart?"
      ],
      "metadata": {
        "id": "t27r6nlMphqO"
      }
    },
    {
      "cell_type": "markdown",
      "source": [
        "Answer Here.\n",
        "A bar plot to show the total revenue between different types of hotel."
      ],
      "metadata": {
        "id": "iv6ro40sphqO"
      }
    },
    {
      "cell_type": "markdown",
      "source": [
        "##### 2. What is/are the insight(s) found from the chart?"
      ],
      "metadata": {
        "id": "r2jJGEOYphqO"
      }
    },
    {
      "cell_type": "markdown",
      "source": [
        "Answer Here\n",
        "\n",
        "Even though the ADR of city hotel is pretty high than the resort hotels still total revenue generated by the resort hotel surpasses the city hotel by a significant amount."
      ],
      "metadata": {
        "id": "Po6ZPi4hphqO"
      }
    },
    {
      "cell_type": "markdown",
      "source": [
        "##### 3. Will the gained insights help creating a positive business impact?\n",
        "Are there any insights that lead to negative growth? Justify with specific reason."
      ],
      "metadata": {
        "id": "b0JNsNcRphqO"
      }
    },
    {
      "cell_type": "markdown",
      "source": [
        "Answer Here\n",
        "\n",
        "People tend to spend more with their families during holiday season even with the price hike."
      ],
      "metadata": {
        "id": "xvSq8iUTphqO"
      }
    },
    {
      "cell_type": "markdown",
      "source": [
        "#### Chart - 8"
      ],
      "metadata": {
        "id": "BZR9WyysphqO"
      }
    },
    {
      "cell_type": "code",
      "source": [
        "# Chart - 8 visualization code\n",
        "plot_bar_chart_from_column(df, 'assigned_room_type', 'Assigment of room by type')"
      ],
      "metadata": {
        "id": "TdPTWpAVphqO"
      },
      "execution_count": null,
      "outputs": []
    },
    {
      "cell_type": "markdown",
      "source": [
        "##### 1. Why did you pick the specific chart?"
      ],
      "metadata": {
        "id": "jj7wYXLtphqO"
      }
    },
    {
      "cell_type": "markdown",
      "source": [
        "Answer Here.\n",
        "Bar Plot is very usefull to visualise contrast between different variables."
      ],
      "metadata": {
        "id": "Ob8u6rCTphqO"
      }
    },
    {
      "cell_type": "markdown",
      "source": [
        "##### 2. What is/are the insight(s) found from the chart?"
      ],
      "metadata": {
        "id": "eZrbJ2SmphqO"
      }
    },
    {
      "cell_type": "markdown",
      "source": [
        "Answer Here\n",
        "Top 3 assigned room types are A, D, E"
      ],
      "metadata": {
        "id": "mZtgC_hjphqO"
      }
    },
    {
      "cell_type": "markdown",
      "source": [
        "##### 3. Will the gained insights help creating a positive business impact?\n",
        "Are there any insights that lead to negative growth? Justify with specific reason."
      ],
      "metadata": {
        "id": "rFu4xreNphqO"
      }
    },
    {
      "cell_type": "markdown",
      "source": [
        "Answer Here"
      ],
      "metadata": {
        "id": "ey_0qi68phqO"
      }
    },
    {
      "cell_type": "markdown",
      "source": [
        "#### Chart - 9"
      ],
      "metadata": {
        "id": "YJ55k-q6phqO"
      }
    },
    {
      "cell_type": "code",
      "source": [
        "# Chart - 9 visualization code\n",
        "def total_nights(df, hotel_type):\n",
        "    df['total_stays_in_nights'] = df['stays_in_week_nights'] + df['stays_in_weekend_nights']\n",
        "    filtered_data = df[(df['hotel'] == hotel_type) & (df['adr'] < 1000)]\n",
        "\n",
        "    plt.figure(figsize=(12, 6))\n",
        "    sns.lineplot(y='total_stays_in_nights', x='adr', data=filtered_data)\n",
        "    plt.title(f'ADR vs Total Stay in Nights ({hotel_type})')\n",
        "    plt.xlabel('Average Daily Rate (ADR)')\n",
        "    plt.ylabel('Total Stay in Nights')\n",
        "    plt.show()\n",
        "\n",
        "total_nights(df, 'Resort Hotel')\n",
        "total_nights(df, 'City Hotel')"
      ],
      "metadata": {
        "id": "B2aS4O1ophqO"
      },
      "execution_count": null,
      "outputs": []
    },
    {
      "cell_type": "markdown",
      "source": [
        "##### 1. Why did you pick the specific chart?"
      ],
      "metadata": {
        "id": "gCFgpxoyphqP"
      }
    },
    {
      "cell_type": "markdown",
      "source": [
        "Answer Here.\n",
        "\n",
        "Line Plot shows trends between total stay in nights vs ADR"
      ],
      "metadata": {
        "id": "TVxDimi2phqP"
      }
    },
    {
      "cell_type": "markdown",
      "source": [
        "##### 2. What is/are the insight(s) found from the chart?"
      ],
      "metadata": {
        "id": "OVtJsKN_phqQ"
      }
    },
    {
      "cell_type": "markdown",
      "source": [
        "Answer Here\n",
        "In resort hotel for 0-50 ADR the total stay in nights is 15 and it decreases afterwarwards gradually.\n",
        "\n",
        "in city hotel fooor 0-50 the total stay in nights is a decreasing slope from 2 nights. But at 75-110 the total stay in nights touches a spike of 7 nights and 5 nights."
      ],
      "metadata": {
        "id": "ngGi97qjphqQ"
      }
    },
    {
      "cell_type": "markdown",
      "source": [
        "##### 3. Will the gained insights help creating a positive business impact?\n",
        "Are there any insights that lead to negative growth? Justify with specific reason."
      ],
      "metadata": {
        "id": "lssrdh5qphqQ"
      }
    },
    {
      "cell_type": "markdown",
      "source": [
        "Answer Here"
      ],
      "metadata": {
        "id": "tBpY5ekJphqQ"
      }
    },
    {
      "cell_type": "markdown",
      "source": [
        "#### Chart - 10"
      ],
      "metadata": {
        "id": "U2RJ9gkRphqQ"
      }
    },
    {
      "cell_type": "code",
      "source": [
        "# Chart 10 visualisation code\n",
        "market_segment_df = pd.DataFrame(df['market_segment'])\n",
        "market_segment_df_data = market_segment_df.groupby('market_segment')['market_segment'].count()\n",
        "market_segment_df_data.sort_values(ascending=False, inplace=True)\n",
        "plt.figure(figsize=(15,6))\n",
        "y= np.array([4,5,6])\n",
        "market_segment_df_data.plot(kind='bar', color=['r', 'g', 'y', 'b', 'pink', 'black', 'brown'], fontsize = 20, legend= 'True')"
      ],
      "metadata": {
        "id": "GM7a4YP4phqQ"
      },
      "execution_count": null,
      "outputs": []
    },
    {
      "cell_type": "markdown",
      "source": [
        "##### 1. Why did you pick the specific chart?"
      ],
      "metadata": {
        "id": "1M8mcRywphqQ"
      }
    },
    {
      "cell_type": "markdown",
      "source": [
        "Answer Here.\n",
        "\n",
        "Highlightens the differences between the variables of market segment."
      ],
      "metadata": {
        "id": "8agQvks0phqQ"
      }
    },
    {
      "cell_type": "markdown",
      "source": [
        "##### 2. What is/are the insight(s) found from the chart?"
      ],
      "metadata": {
        "id": "tgIPom80phqQ"
      }
    },
    {
      "cell_type": "markdown",
      "source": [
        "Answer Here\n",
        "\n",
        "Corporate and Online TA tops the market segment."
      ],
      "metadata": {
        "id": "Qp13pnNzphqQ"
      }
    },
    {
      "cell_type": "markdown",
      "source": [
        "##### 3. Will the gained insights help creating a positive business impact?\n",
        "Are there any insights that lead to negative growth? Justify with specific reason."
      ],
      "metadata": {
        "id": "JMzcOPDDphqR"
      }
    },
    {
      "cell_type": "markdown",
      "source": [
        "Answer Here"
      ],
      "metadata": {
        "id": "R4Ka1PC2phqR"
      }
    },
    {
      "cell_type": "markdown",
      "source": [
        "#### Chart - 11"
      ],
      "metadata": {
        "id": "x-EpHcCOp1ci"
      }
    },
    {
      "cell_type": "code",
      "source": [
        "# Chart - 11 visualization code\n",
        "repeated_guest_counts =df.groupby(['hotel','is_repeated_guest']).size().unstack(fill_value=0)\n",
        "for hotel_type in repeated_guest_counts.index:\n",
        "    counts = repeated_guest_counts.loc[hotel_type]\n",
        "    plt.figure(figsize=(10, 6))\n",
        "    plt.pie(counts, labels=['Not Repeated', 'Repeated'], autopct='%1.1f%%', startangle=90,explode=(0.1, 0)  )\n",
        "    plt.title(f'Repeated Guests in {hotel_type}')\n",
        "    plt.legend()\n",
        "    plt.axis('equal')\n",
        "    plt.show()"
      ],
      "metadata": {
        "id": "mAQTIvtqp1cj"
      },
      "execution_count": null,
      "outputs": []
    },
    {
      "cell_type": "markdown",
      "source": [
        "##### 1. Why did you pick the specific chart?"
      ],
      "metadata": {
        "id": "X_VqEhTip1ck"
      }
    },
    {
      "cell_type": "markdown",
      "source": [
        "Answer Here.\n",
        "\n",
        "Percentage wise categorisation of repeated guest in different hotels."
      ],
      "metadata": {
        "id": "-vsMzt_np1ck"
      }
    },
    {
      "cell_type": "markdown",
      "source": [
        "##### 2. What is/are the insight(s) found from the chart?"
      ],
      "metadata": {
        "id": "8zGJKyg5p1ck"
      }
    },
    {
      "cell_type": "markdown",
      "source": [
        "Answer Here\n",
        "\n",
        "Repeated Guest for Resort Hotel is 5.9% and for City hotel is 10.6%"
      ],
      "metadata": {
        "id": "ZYdMsrqVp1ck"
      }
    },
    {
      "cell_type": "markdown",
      "source": [
        "##### 3. Will the gained insights help creating a positive business impact?\n",
        "Are there any insights that lead to negative growth? Justify with specific reason."
      ],
      "metadata": {
        "id": "PVzmfK_Ep1ck"
      }
    },
    {
      "cell_type": "markdown",
      "source": [
        "Answer Here\n",
        "\n",
        "People tend to spend more on Resort Hotels but only once, majority of them doest not like to repeat.\n",
        "\n",
        "Whereas in city hotels the repeated guests are twice as many as resort hotels.\n",
        "\n",
        "City hotels are way more convinient for people travelling daily because of their location at the hearts of city, cheap, and easy to commute."
      ],
      "metadata": {
        "id": "druuKYZpp1ck"
      }
    },
    {
      "cell_type": "markdown",
      "source": [
        "#### Chart - 12"
      ],
      "metadata": {
        "id": "n3dbpmDWp1ck"
      }
    },
    {
      "cell_type": "code",
      "source": [
        "# Chart - 12 visualization code\n",
        "df['total_stays_in_nights'] = df['stays_in_weekend_nights'] + df['stays_in_week_nights']\n",
        "df['revenue'] = df['adr'] * df['total_stays_in_nights']\n",
        "\n",
        "# Create the line plot\n",
        "plt.figure(figsize=(12, 6))\n",
        "sns.scatterplot(data=df, x='lead_time', y='revenue', hue='hotel')\n",
        "plt.title('Lead Time vs Revenue for Each Hotel Type')\n",
        "plt.xlabel('Lead Time (Days)')\n",
        "plt.ylabel('Average Revenue')\n",
        "plt.legend(title='Hotel Type')\n",
        "plt.grid()\n",
        "plt.show()"
      ],
      "metadata": {
        "id": "bwevp1tKp1ck"
      },
      "execution_count": null,
      "outputs": []
    },
    {
      "cell_type": "markdown",
      "source": [
        "##### 1. Why did you pick the specific chart?"
      ],
      "metadata": {
        "id": "ylSl6qgtp1ck"
      }
    },
    {
      "cell_type": "markdown",
      "source": [
        "Answer Here.\n",
        "Scatter plot to visualise the frequency of lead time vs revenue variable."
      ],
      "metadata": {
        "id": "m2xqNkiQp1ck"
      }
    },
    {
      "cell_type": "markdown",
      "source": [
        "##### 2. What is/are the insight(s) found from the chart?"
      ],
      "metadata": {
        "id": "ZWILFDl5p1ck"
      }
    },
    {
      "cell_type": "markdown",
      "source": [
        "Answer Here\n",
        "\n",
        "Hotels generate more revenue when the lead time (days) is less.\n",
        "\n",
        "Resort hotels collects the highest revenue over less lead time period.Whereas City hotels keeptheir prices stagnent irrespective of lead time."
      ],
      "metadata": {
        "id": "x-lUsV2mp1ck"
      }
    },
    {
      "cell_type": "markdown",
      "source": [
        "##### 3. Will the gained insights help creating a positive business impact?\n",
        "Are there any insights that lead to negative growth? Justify with specific reason."
      ],
      "metadata": {
        "id": "M7G43BXep1ck"
      }
    },
    {
      "cell_type": "markdown",
      "source": [
        "Answer Here"
      ],
      "metadata": {
        "id": "5wwDJXsLp1cl"
      }
    },
    {
      "cell_type": "markdown",
      "source": [
        "#### Chart - 13"
      ],
      "metadata": {
        "id": "Ag9LCva-p1cl"
      }
    },
    {
      "cell_type": "code",
      "source": [
        "# Chart - 13 visualization code\n",
        "sns.set(style=\"whitegrid\")\n",
        "\n",
        "# Create the violin plot\n",
        "plt.figure(figsize=(12, 6))\n",
        "sns.boxplot(x='assigned_room_type', y='adr', data=df)\n",
        "plt.title('Distribution  Room Type')\n",
        "plt.xlabel('Assigned Room Type')\n",
        "plt.ylabel('adr')\n",
        "plt.grid()\n",
        "plt.show()"
      ],
      "metadata": {
        "id": "EUfxeq9-p1cl"
      },
      "execution_count": null,
      "outputs": []
    },
    {
      "cell_type": "code",
      "source": [
        "# Chart - 13 visualization code\n",
        "sns.set(style=\"whitegrid\")\n",
        "\n",
        "# Create the violin plot\n",
        "plt.figure(figsize=(12, 6))\n",
        "sns.boxplot(x='assigned_room_type', y='reserved_room_type', data=df)\n",
        "plt.title('Distribution  Room Type')\n",
        "plt.xlabel('Assigned Room Type')\n",
        "plt.ylabel('reserved')\n",
        "plt.grid()\n",
        "plt.show()"
      ],
      "metadata": {
        "id": "UDka185y2cC1"
      },
      "execution_count": null,
      "outputs": []
    },
    {
      "cell_type": "markdown",
      "source": [
        "##### 1. Why did you pick the specific chart?"
      ],
      "metadata": {
        "id": "E6MkPsBcp1cl"
      }
    },
    {
      "cell_type": "markdown",
      "source": [
        "Answer Here.\n",
        "\n",
        "Boxplot helps to identify the outliers which may cause bias in the data set."
      ],
      "metadata": {
        "id": "V22bRsFWp1cl"
      }
    },
    {
      "cell_type": "markdown",
      "source": [
        "##### 2. What is/are the insight(s) found from the chart?"
      ],
      "metadata": {
        "id": "2cELzS2fp1cl"
      }
    },
    {
      "cell_type": "markdown",
      "source": [
        "Answer Here\n",
        "\n",
        "When the assigned room types were compared to ADR it showed that the most demanding rooms were A D and F and most of the people got it.\n",
        "But room E has got more outliers suggesting that people who reserved it only few got assigned.\n",
        "\n",
        "And when compared to Reserved room to Assigned room it showed that overall F and D are the highest reserved room which got assigned as well.\n",
        "Here also the outliers are at room E suggesting the same"
      ],
      "metadata": {
        "id": "ozQPc2_Ip1cl"
      }
    },
    {
      "cell_type": "markdown",
      "source": [
        "##### 3. Will the gained insights help creating a positive business impact?\n",
        "Are there any insights that lead to negative growth? Justify with specific reason."
      ],
      "metadata": {
        "id": "3MPXvC8up1cl"
      }
    },
    {
      "cell_type": "markdown",
      "source": [
        "Answer Here\n",
        "\n",
        "As we can see the most reserved rooms are A D F but we can aslo clearly see that people also like to get room E. But due to certain reasons they were not assigned the room E which may create a bad imoression and decrease the repeated guest engagement. Therefore hotels should prioritise on assigning the reserved rooms."
      ],
      "metadata": {
        "id": "GL8l1tdLp1cl"
      }
    },
    {
      "cell_type": "markdown",
      "source": [
        "#### Chart - 14 - Correlation Heatmap"
      ],
      "metadata": {
        "id": "NC_X3p0fY2L0"
      }
    },
    {
      "cell_type": "code",
      "source": [
        "# Correlation Heatmap visualization code\n",
        "numeric_df = df.select_dtypes(include=['float64', 'int64'])\n",
        "\n",
        "# Calculate the correlation matrix\n",
        "correlation_matrix = numeric_df.corr()\n",
        "\n",
        "# Create a heatmap\n",
        "plt.figure(figsize=(20, 18))\n",
        "sns.heatmap(correlation_matrix, annot=True, fmt=\".2f\", cmap='coolwarm', square=True)\n",
        "plt.title('Correlation Heatmap')\n",
        "plt.show()"
      ],
      "metadata": {
        "id": "xyC9zolEZNRQ"
      },
      "execution_count": null,
      "outputs": []
    },
    {
      "cell_type": "markdown",
      "source": [
        "##### 1. Why did you pick the specific chart?"
      ],
      "metadata": {
        "id": "UV0SzAkaZNRQ"
      }
    },
    {
      "cell_type": "markdown",
      "source": [
        "Answer Here.\n",
        "\n",
        "Correlation Heatmap shows us the negative and positive relationship among all the variables."
      ],
      "metadata": {
        "id": "DVPuT8LYZNRQ"
      }
    },
    {
      "cell_type": "markdown",
      "source": [
        "##### 2. What is/are the insight(s) found from the chart?"
      ],
      "metadata": {
        "id": "YPEH6qLeZNRQ"
      }
    },
    {
      "cell_type": "markdown",
      "source": [
        "Answer Here\n",
        "There are many insights some of them are:\n",
        "\n",
        "Revenue is positively related with total_stays_in_nights, total_stays_in_weekend_nights and total_stays_in_week_nights whereas very negatively related to arrival_date_year"
      ],
      "metadata": {
        "id": "bfSqtnDqZNRR"
      }
    },
    {
      "cell_type": "markdown",
      "source": [
        "#### Chart - 15 - Pair Plot"
      ],
      "metadata": {
        "id": "q29F0dvdveiT"
      }
    },
    {
      "cell_type": "code",
      "source": [
        "# Pair Plot visualization code\n",
        "sample_df = df.sample(n=150)\n",
        "relevant_columns = sample_df[['adults', 'children', 'babies', 'adr', 'lead_time','country','is_canceled','hotel']]\n",
        "plt.figure(figsize=(16,10))\n",
        "sns.pairplot(relevant_columns, hue='hotel', kind='reg')\n",
        "plt.title('Pairplot of Hotel Data')\n",
        "plt.show()"
      ],
      "metadata": {
        "id": "o58-TEIhveiU"
      },
      "execution_count": null,
      "outputs": []
    },
    {
      "cell_type": "markdown",
      "source": [
        "##### 1. Why did you pick the specific chart?"
      ],
      "metadata": {
        "id": "EXh0U9oCveiU"
      }
    },
    {
      "cell_type": "markdown",
      "source": [
        "Answer Here."
      ],
      "metadata": {
        "id": "eMmPjTByveiU"
      }
    },
    {
      "cell_type": "markdown",
      "source": [
        "##### 2. What is/are the insight(s) found from the chart?"
      ],
      "metadata": {
        "id": "22aHeOlLveiV"
      }
    },
    {
      "cell_type": "markdown",
      "source": [
        "Answer Here"
      ],
      "metadata": {
        "id": "uPQ8RGwHveiV"
      }
    },
    {
      "cell_type": "markdown",
      "source": [
        "## **5. Solution to Business Objective**"
      ],
      "metadata": {
        "id": "JcMwzZxoAimU"
      }
    },
    {
      "cell_type": "markdown",
      "source": [
        "#### What do you suggest the client to achieve Business Objective ?\n",
        "Explain Briefly."
      ],
      "metadata": {
        "id": "8G2x9gOozGDZ"
      }
    },
    {
      "cell_type": "markdown",
      "source": [
        "Answer Here.\n",
        "\n",
        "As we can see people tend to spend more when they are with their families in holidays and most of the bookings are down through croporate chain and online. Therefore the clients should boost their marketing online and build strong corporate chain network."
      ],
      "metadata": {
        "id": "pASKb0qOza21"
      }
    },
    {
      "cell_type": "markdown",
      "source": [
        "# **Conclusion**"
      ],
      "metadata": {
        "id": "gCX9965dhzqZ"
      }
    },
    {
      "cell_type": "markdown",
      "source": [
        "Write the conclusion here."
      ],
      "metadata": {
        "id": "Fjb1IsQkh3yE"
      }
    },
    {
      "cell_type": "markdown",
      "source": [
        "### ***Hurrah! You have successfully completed your EDA Capstone Project !!!***"
      ],
      "metadata": {
        "id": "gIfDvo9L0UH2"
      }
    },
    {
      "cell_type": "code",
      "source": [],
      "metadata": {
        "id": "ZCwhneyYiYuO"
      },
      "execution_count": null,
      "outputs": []
    }
  ]
}